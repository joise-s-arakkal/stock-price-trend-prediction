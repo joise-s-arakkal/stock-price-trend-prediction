{
  "nbformat": 4,
  "nbformat_minor": 0,
  "metadata": {
    "colab": {
      "provenance": [],
      "gpuType": "T4"
    },
    "kernelspec": {
      "name": "python3",
      "display_name": "Python 3"
    },
    "language_info": {
      "name": "python"
    },
    "accelerator": "GPU"
  },
  "cells": [
    {
      "cell_type": "code",
      "execution_count": 1,
      "metadata": {
        "id": "jgU1mUJvgLdQ"
      },
      "outputs": [],
      "source": [
        "!pip install -q gradio yfinance tensorflow scikit-learn matplotlib"
      ]
    },
    {
      "cell_type": "code",
      "source": [
        "import gradio as gr\n",
        "from gradio.themes.soft import Soft\n",
        "\n",
        "import yfinance as yf\n",
        "import numpy as np\n",
        "import pandas as pd\n",
        "from sklearn.preprocessing import MinMaxScaler\n",
        "from tensorflow.keras.models import Sequential\n",
        "from tensorflow.keras.layers import Dense, LSTM, Input\n",
        "import tensorflow as tf # Import tensorflow for the callback\n",
        "import matplotlib.pyplot as plt\n",
        "import io\n",
        "from PIL import Image\n",
        "\n",
        "# Suppress TensorFlow warnings\n",
        "import os\n",
        "os.environ['TF_CPP_MIN_LOG_LEVEL'] = '2'\n",
        "tf.get_logger().setLevel('ERROR')\n",
        "\n",
        "# --- Gradio Progress Callback for Keras ---\n",
        "# This custom class allows the model's training progress to be displayed in the Gradio UI.\n",
        "class GradioProgressCallback(tf.keras.callbacks.Callback):\n",
        "    def __init__(self, progress, epochs, initial_progress=0.2, total_span=0.7):\n",
        "        super().__init__()\n",
        "        self.progress = progress\n",
        "        self.epochs = epochs\n",
        "        self.initial_progress = initial_progress\n",
        "        self.total_span = total_span\n",
        "\n",
        "    def on_epoch_end(self, epoch, logs=None):\n",
        "        # Calculate current progress within the training span\n",
        "        training_progress = (epoch + 1) / self.epochs\n",
        "        # Map it to the overall progress bar\n",
        "        overall_progress = self.initial_progress + (training_progress * self.total_span)\n",
        "        self.progress(\n",
        "            overall_progress,\n",
        "            desc=f\"Analyzing (Training)... Epoch {epoch + 1}/{self.epochs}\"\n",
        "        )\n",
        "\n",
        "def get_stock_data(ticker, start_date=\"2012-01-01\", end_date=\"2025-07-27\"):\n",
        "    \"\"\"Fetches stock data from Yahoo Finance.\"\"\"\n",
        "    df = yf.download(ticker, start=start_date, end=end_date, auto_adjust=True, progress=False)\n",
        "    return df\n",
        "\n",
        "def create_dataset(dataset, time_step=1):\n",
        "    \"\"\"Creates a dataset for the LSTM model.\"\"\"\n",
        "    dataX, dataY = [], []\n",
        "    for i in range(len(dataset) - time_step - 1):\n",
        "        a = dataset[i:(i + time_step), 0]\n",
        "        dataX.append(a)\n",
        "        dataY.append(dataset[i + time_step, 0])\n",
        "    return np.array(dataX), np.array(dataY)\n",
        "\n",
        "def build_and_train_model(X_train, y_train, X_test, y_test, time_step, progress_callback):\n",
        "    \"\"\"Builds and trains the LSTM model.\"\"\"\n",
        "    model = Sequential([\n",
        "        Input(shape=(time_step, 1)),\n",
        "        LSTM(50, return_sequences=True),\n",
        "        LSTM(50, return_sequences=False),\n",
        "        Dense(25),\n",
        "        Dense(1)\n",
        "    ])\n",
        "    model.compile(optimizer='adam', loss='mean_squared_error')\n",
        "    model.fit(X_train, y_train, validation_data=(X_test, y_test), batch_size=64, epochs=15, verbose=0, callbacks=[progress_callback])\n",
        "    return model\n",
        "\n",
        "def predict_and_plot(ticker, progress=gr.Progress(track_tqdm=True)):\n",
        "    \"\"\"The main function that orchestrates the entire process and updates the UI.\"\"\"\n",
        "    try:\n",
        "        progress(0, desc=\"Starting...\")\n",
        "\n",
        "        progress(0.1, desc=f\"Downloading {ticker} dataset...\")\n",
        "        df = get_stock_data(ticker)\n",
        "        if df.empty:\n",
        "            return f\"Could not fetch data for '{ticker}'. Please check if the ticker symbol is valid.\", None\n",
        "    except Exception as e:\n",
        "        return f\"An error occurred during data download: {e}\", None\n",
        "\n",
        "    progress(0.2, desc=\"Preprocessing data...\")\n",
        "    df_close = df['Close']\n",
        "    scaler = MinMaxScaler(feature_range=(0, 1))\n",
        "    df_close_scaled = scaler.fit_transform(np.array(df_close).reshape(-1, 1))\n",
        "\n",
        "    training_size = int(len(df_close_scaled) * 0.75)\n",
        "    train_data, test_data = df_close_scaled[0:training_size, :], df_close_scaled[training_size:len(df_close_scaled), :1]\n",
        "\n",
        "    time_step = 100\n",
        "    X_train, y_train = create_dataset(train_data, time_step)\n",
        "    X_test, y_test = create_dataset(test_data, time_step)\n",
        "\n",
        "    X_train = X_train.reshape(X_train.shape[0], X_train.shape[1], 1)\n",
        "    X_test = X_test.reshape(X_test.shape[0], X_test.shape[1], 1)\n",
        "\n",
        "    # The training process will now update the progress from 0.2 to 0.9\n",
        "    progress_callback = GradioProgressCallback(progress, epochs=15)\n",
        "    model = build_and_train_model(X_train, y_train, X_test, y_test, time_step, progress_callback)\n",
        "\n",
        "    progress(0.9, desc=\"Generating predictions and plot...\")\n",
        "\n",
        "    # Make predictions\n",
        "    train_predict = model.predict(X_train, verbose=0)\n",
        "    test_predict = model.predict(X_test, verbose=0)\n",
        "\n",
        "    train_predict = scaler.inverse_transform(train_predict)\n",
        "    test_predict = scaler.inverse_transform(test_predict)\n",
        "\n",
        "    # Plotting\n",
        "    look_back = time_step\n",
        "    trainPredictPlot = np.empty_like(df_close_scaled)\n",
        "    trainPredictPlot[:, :] = np.nan\n",
        "    trainPredictPlot[look_back:len(train_predict) + look_back, :] = train_predict\n",
        "\n",
        "    testPredictPlot = np.empty_like(df_close_scaled)\n",
        "    testPredictPlot[:, :] = np.nan\n",
        "    test_plot_start_index = training_size + look_back\n",
        "    testPredictPlot[test_plot_start_index:test_plot_start_index + len(test_predict), :] = test_predict\n",
        "\n",
        "    plt.style.use('seaborn-v0_8-darkgrid')\n",
        "    plt.figure(figsize=(15, 8))\n",
        "    plt.plot(df.index, scaler.inverse_transform(df_close_scaled), color='#007ACC', label='Actual Price')\n",
        "    plt.plot(df.index, trainPredictPlot, color='#F97306', label='Train Predictions')\n",
        "    plt.plot(df.index, testPredictPlot, color='#44D7A8', label='Test Predictions')\n",
        "    plt.title(f'{ticker} Stock Price Prediction', fontsize=16)\n",
        "    plt.xlabel('Date', fontsize=12)\n",
        "    plt.ylabel('Close Price USD ($)', fontsize=12)\n",
        "    plt.legend(loc='upper left')\n",
        "\n",
        "    buf = io.BytesIO()\n",
        "    plt.savefig(buf, format='png', bbox_inches='tight')\n",
        "    plt.close()\n",
        "    buf.seek(0)\n",
        "    plot_image = Image.open(buf)\n",
        "\n",
        "    # Predict the next day's price\n",
        "    last_100_days = df_close_scaled[-100:]\n",
        "    last_100_days_reshaped = last_100_days.reshape(1, time_step, 1)\n",
        "    next_day_price_scaled = model.predict(last_100_days_reshaped, verbose=0)\n",
        "    next_day_price = scaler.inverse_transform(next_day_price_scaled)[0][0]\n",
        "\n",
        "    progress(1.0, desc=\"Showing Prediction\")\n",
        "    return f\"The predicted closing price for the next trading day is: **${next_day_price:.2f}**\", plot_image\n",
        "\n",
        "# --- Gradio UI Definition ---\n",
        "iface = gr.Interface(\n",
        "    fn=predict_and_plot,\n",
        "    theme=Soft(),\n",
        "    inputs=gr.Textbox(lines=1, placeholder=\"Enter Stock Ticker (e.g., AAPL, GOOG, NVDA)...\", label=\"Stock Ticker\"),\n",
        "    outputs=[\n",
        "        gr.Markdown(label=\"Next Day Prediction\"),\n",
        "        gr.Image(label=\"Prediction Plot\", type=\"pil\")\n",
        "    ],\n",
        "    title=\"📊 Stock Price Prediction with LSTM\",\n",
        "    description=\"Enter a valid stock ticker to train an LSTM model and predict the next day's closing price. The model is trained in real-time with progress updates.\",\n",
        "    examples=[[\"AAPL\"], [\"GOOG\"], [\"NVDA\"], [\"TSLA\"]],\n",
        "    allow_flagging=\"never\"\n",
        ")\n",
        "\n",
        "# Launch the app\n",
        "if __name__ == \"__main__\":\n",
        "    iface.launch(debug = True)"
      ],
      "metadata": {
        "colab": {
          "base_uri": "https://localhost:8080/",
          "height": 723
        },
        "id": "yBgrD5FwpZS8",
        "outputId": "bf1b5310-371b-4342-e4bc-0baf2f472b15"
      },
      "execution_count": 2,
      "outputs": [
        {
          "output_type": "stream",
          "name": "stderr",
          "text": [
            "/usr/local/lib/python3.11/dist-packages/gradio/interface.py:425: UserWarning: The `allow_flagging` parameter in `Interface` is deprecated. Use `flagging_mode` instead.\n",
            "  warnings.warn(\n"
          ]
        },
        {
          "output_type": "stream",
          "name": "stdout",
          "text": [
            "It looks like you are running Gradio on a hosted Jupyter notebook, which requires `share=True`. Automatically setting `share=True` (you can turn this off by setting `share=False` in `launch()` explicitly).\n",
            "\n",
            "Colab notebook detected. This cell will run indefinitely so that you can see errors and logs. To turn off, set debug=False in launch().\n",
            "* Running on public URL: https://634f6189c98b76e381.gradio.live\n",
            "\n",
            "This share link expires in 1 week. For free permanent hosting and GPU upgrades, run `gradio deploy` from the terminal in the working directory to deploy to Hugging Face Spaces (https://huggingface.co/spaces)\n"
          ]
        },
        {
          "output_type": "display_data",
          "data": {
            "text/plain": [
              "<IPython.core.display.HTML object>"
            ],
            "text/html": [
              "<div><iframe src=\"https://634f6189c98b76e381.gradio.live\" width=\"100%\" height=\"500\" allow=\"autoplay; camera; microphone; clipboard-read; clipboard-write;\" frameborder=\"0\" allowfullscreen></iframe></div>"
            ]
          },
          "metadata": {}
        },
        {
          "output_type": "stream",
          "name": "stdout",
          "text": [
            "Keyboard interruption in main thread... closing server.\n",
            "Killing tunnel 127.0.0.1:7860 <> https://634f6189c98b76e381.gradio.live\n"
          ]
        }
      ]
    }
  ]
}